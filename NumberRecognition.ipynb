{
  "nbformat": 4,
  "nbformat_minor": 0,
  "metadata": {
    "colab": {
      "name": "NumberRecognition",
      "provenance": [],
      "collapsed_sections": [],
      "include_colab_link": true
    },
    "kernelspec": {
      "name": "python3",
      "display_name": "Python 3"
    }
  },
  "cells": [
    {
      "cell_type": "markdown",
      "metadata": {
        "id": "view-in-github",
        "colab_type": "text"
      },
      "source": [
        "<a href=\"https://colab.research.google.com/github/tanaymittal25/DeepLearning/blob/master/NumberRecognition.ipynb\" target=\"_parent\"><img src=\"https://colab.research.google.com/assets/colab-badge.svg\" alt=\"Open In Colab\"/></a>"
      ]
    },
    {
      "cell_type": "code",
      "metadata": {
        "id": "rR6mKAO52ett",
        "colab_type": "code",
        "colab": {}
      },
      "source": [
        "import io\n",
        "import pandas as pd\n",
        "import numpy as np\n",
        "import scipy.special\n",
        "import matplotlib.pyplot\n",
        "%matplotlib inline"
      ],
      "execution_count": 0,
      "outputs": []
    },
    {
      "cell_type": "code",
      "metadata": {
        "id": "Fga6pIa33wKs",
        "colab_type": "code",
        "colab": {}
      },
      "source": [
        "class NeuralNet:\n",
        "  \n",
        "  def __init__(self, inputNodes, hiddenNodes, outputNodes, learningRate):\n",
        "    \n",
        "    self.iNodes = inputNodes\n",
        "    self.hNodes = hiddenNodes\n",
        "    self.oNodes = outputNodes\n",
        "    \n",
        "    self.wih = np.random.normal(0.0, pow(self.iNodes, -0.5), (self.hNodes, self.iNodes))\n",
        "    self.who = np.random.normal(0.0, pow(self.hNodes, -0.5), (self.oNodes, self.hNodes))\n",
        "    \n",
        "    self.lr = learningRate\n",
        "    \n",
        "    self.activationFunction = lambda x: scipy.special.expit(x)\n",
        "    \n",
        "    pass\n",
        "  \n",
        "  def train(self, inputList, targetList):\n",
        "    \n",
        "    inputs = np.array(inputList, ndmin = 2).T\n",
        "    targets = np.array(targetList, ndmin = 2).T\n",
        "    \n",
        "    hiddenInputs = np.dot(self.wih, inputs)\n",
        "    hiddenOutputs = self.activationFunction(hiddenInputs)\n",
        "    \n",
        "    finalInputs = np.dot(self.who, hiddenOutputs)\n",
        "    finalOutputs = self.activationFunction(finalInputs)\n",
        "    \n",
        "    outputErrors = targets - finalOutputs\n",
        "    hiddenErrors = np.dot(self.who.T, outputErrors)\n",
        "    \n",
        "    self.who += self.lr * np.dot((outputErrors * finalOutputs * (1.0 - finalOutputs)), np.transpose(hiddenOutputs))\n",
        "    self.wih += self.lr * np.dot((hiddenErrors * hiddenOutputs * (1.0 - hiddenOutputs)), np.transpose(inputs))\n",
        "    \n",
        "    pass\n",
        "  \n",
        "  def query(self, inputList):\n",
        "    \n",
        "    inputs = np.array(inputList, ndmin = 2).T\n",
        "    hiddenInputs = np.dot(self.wih, inputs)\n",
        "    hiddenOutputs = self.activationFunction(hiddenInputs)\n",
        "    finalInputs = np.dot(self.who, hiddenOutputs)\n",
        "    finalOutputs = self.activationFunction(finalInputs)\n",
        "    \n",
        "    return finalOutputs"
      ],
      "execution_count": 0,
      "outputs": []
    },
    {
      "cell_type": "code",
      "metadata": {
        "id": "skMD_fe77UON",
        "colab_type": "code",
        "colab": {}
      },
      "source": [
        "inputNodes = 784\n",
        "hiddenNodes = 200\n",
        "outputNodes = 10\n",
        "\n",
        "learningRate = 0.1\n",
        "\n",
        "net = NeuralNet(inputNodes, hiddenNodes, outputNodes, learningRate)"
      ],
      "execution_count": 0,
      "outputs": []
    },
    {
      "cell_type": "code",
      "metadata": {
        "id": "WmpYNyDI8Vdm",
        "colab_type": "code",
        "colab": {}
      },
      "source": [
        "\n",
        "trainingFile = open('/content/drive/My Drive/MNIST DataSet/mnist_train.csv','r')\n",
        "trainingData = trainingFile.readlines()\n",
        "trainingFile.close()"
      ],
      "execution_count": 0,
      "outputs": []
    },
    {
      "cell_type": "code",
      "metadata": {
        "id": "zGd06rQpe4f8",
        "colab_type": "code",
        "outputId": "462e3f87-81ed-478d-811e-565c48fc1930",
        "colab": {
          "base_uri": "https://localhost:8080/",
          "height": 124
        }
      },
      "source": [
        "from google.colab import drive\n",
        "drive.mount('/content/drive')"
      ],
      "execution_count": 0,
      "outputs": [
        {
          "output_type": "stream",
          "text": [
            "Go to this URL in a browser: https://accounts.google.com/o/oauth2/auth?client_id=947318989803-6bn6qk8qdgf4n4g3pfee6491hc0brc4i.apps.googleusercontent.com&redirect_uri=urn%3Aietf%3Awg%3Aoauth%3A2.0%3Aoob&scope=email%20https%3A%2F%2Fwww.googleapis.com%2Fauth%2Fdocs.test%20https%3A%2F%2Fwww.googleapis.com%2Fauth%2Fdrive%20https%3A%2F%2Fwww.googleapis.com%2Fauth%2Fdrive.photos.readonly%20https%3A%2F%2Fwww.googleapis.com%2Fauth%2Fpeopleapi.readonly&response_type=code\n",
            "\n",
            "Enter your authorization code:\n",
            "··········\n",
            "Mounted at /content/drive\n"
          ],
          "name": "stdout"
        }
      ]
    },
    {
      "cell_type": "code",
      "metadata": {
        "id": "r47MLE1c8gkz",
        "colab_type": "code",
        "colab": {}
      },
      "source": [
        "epochs = 5\n",
        "\n",
        "for e in range(epochs):\n",
        "  \n",
        "  for record in trainingData:\n",
        "    \n",
        "    allValues = record.split(',')\n",
        "    inputs = (np.asfarray(allValues[1:]) / 255.0 * 0.99) + 0.01\n",
        "    targets = np.zeros(outputNodes) + 0.01\n",
        "    \n",
        "    targets[int(allValues[0])] = 0.99\n",
        "    net.train(inputs, targets)\n",
        "    \n",
        "    pass\n",
        "  \n",
        "  pass\n"
      ],
      "execution_count": 0,
      "outputs": []
    },
    {
      "cell_type": "code",
      "metadata": {
        "id": "SwcoiknBE_UM",
        "colab_type": "code",
        "colab": {}
      },
      "source": [
        "testFile = open('/content/drive/My Drive/MNIST DataSet/mnist_test.csv','r')\n",
        "testData = testFile.readlines()\n",
        "testFile.close()"
      ],
      "execution_count": 0,
      "outputs": []
    },
    {
      "cell_type": "code",
      "metadata": {
        "id": "0AyT5njZH9mp",
        "colab_type": "code",
        "outputId": "871a99a2-4c40-4638-b1e7-e89c4111a5cc",
        "colab": {
          "base_uri": "https://localhost:8080/",
          "height": 34
        }
      },
      "source": [
        "testValue = testData[0].split(',')\n",
        "Output = net.query(np.asfarray(testValue[1:]) / 255.0 * 0.99) + 0.01\n",
        "print(np.argmax(Output))"
      ],
      "execution_count": 0,
      "outputs": [
        {
          "output_type": "stream",
          "text": [
            "7\n"
          ],
          "name": "stdout"
        }
      ]
    },
    {
      "cell_type": "code",
      "metadata": {
        "id": "sOscBvKFGVwh",
        "colab_type": "code",
        "outputId": "087ce6f6-f7aa-4e75-f7d4-9bee7a1ce894",
        "colab": {
          "base_uri": "https://localhost:8080/",
          "height": 69
        }
      },
      "source": [
        "scorecard = []\n",
        "count = 0\n",
        "correct = 0\n",
        "for record in testData:\n",
        "  \n",
        "  testValue = record.split(',')\n",
        "  correctValue = int(testValue[0])\n",
        "  inputs = (np.asfarray(testValue[1:]) / 255.0 * 0.99) + 0.01\n",
        "  outputs = net.query(inputs)\n",
        "  label = np.argmax(outputs)\n",
        "  \n",
        "  \n",
        "  if label != correctValue:\n",
        "    #print('Label: ', label, 'Correct Value: ', correctValue)\n",
        "    count += 1\n",
        "  else:\n",
        "    correct += 1\n",
        "  \n",
        "  if label == correctValue:\n",
        "    scorecard.append(1)\n",
        "  else:\n",
        "    scorecard.append(0)\n",
        "print('Correct Prediction: ', correct)\n",
        "print('Incorrect Predictions: ', count) \n",
        "performance = np.asarray(scorecard)\n",
        "print('Performance: ', performance.sum() / performance.size)"
      ],
      "execution_count": 0,
      "outputs": [
        {
          "output_type": "stream",
          "text": [
            "Correct Prediction:  9728\n",
            "Incorrect Predictions:  272\n",
            "Performance:  0.9728\n"
          ],
          "name": "stdout"
        }
      ]
    }
  ]
}